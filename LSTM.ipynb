{
  "nbformat": 4,
  "nbformat_minor": 0,
  "metadata": {
    "colab": {
      "provenance": [],
      "authorship_tag": "ABX9TyObQfgrogjVAayrU1n312Rk",
      "include_colab_link": true
    },
    "kernelspec": {
      "name": "python3",
      "display_name": "Python 3"
    },
    "language_info": {
      "name": "python"
    }
  },
  "cells": [
    {
      "cell_type": "markdown",
      "metadata": {
        "id": "view-in-github",
        "colab_type": "text"
      },
      "source": [
        "<a href=\"https://colab.research.google.com/github/Kaleab1999/Ethiopia-airlines-tweeter-review-sentiment-analysis/blob/main/LSTM.ipynb\" target=\"_parent\"><img src=\"https://colab.research.google.com/assets/colab-badge.svg\" alt=\"Open In Colab\"/></a>"
      ]
    },
    {
      "cell_type": "code",
      "source": [
        "!pip install text-hammer"
      ],
      "metadata": {
        "colab": {
          "base_uri": "https://localhost:8080/"
        },
        "id": "uqNCGVP1xQEO",
        "outputId": "2d0670c3-946d-4b26-9321-f7285e162bf2"
      },
      "execution_count": null,
      "outputs": [
        {
          "output_type": "stream",
          "name": "stdout",
          "text": [
            "Looking in indexes: https://pypi.org/simple, https://us-python.pkg.dev/colab-wheels/public/simple/\n",
            "Collecting text-hammer\n",
            "  Downloading text_hammer-0.1.5-py3-none-any.whl (7.6 kB)\n",
            "Requirement already satisfied: numpy in /usr/local/lib/python3.7/dist-packages (from text-hammer) (1.21.6)\n",
            "Collecting beautifulsoup4==4.9.1\n",
            "  Downloading beautifulsoup4-4.9.1-py3-none-any.whl (115 kB)\n",
            "\u001b[K     |████████████████████████████████| 115 kB 5.2 MB/s \n",
            "\u001b[?25hRequirement already satisfied: TextBlob in /usr/local/lib/python3.7/dist-packages (from text-hammer) (0.15.3)\n",
            "Requirement already satisfied: spacy in /usr/local/lib/python3.7/dist-packages (from text-hammer) (3.4.2)\n",
            "Requirement already satisfied: pandas in /usr/local/lib/python3.7/dist-packages (from text-hammer) (1.3.5)\n",
            "Collecting soupsieve>1.2\n",
            "  Downloading soupsieve-2.3.2.post1-py3-none-any.whl (37 kB)\n",
            "Requirement already satisfied: pytz>=2017.3 in /usr/local/lib/python3.7/dist-packages (from pandas->text-hammer) (2022.5)\n",
            "Requirement already satisfied: python-dateutil>=2.7.3 in /usr/local/lib/python3.7/dist-packages (from pandas->text-hammer) (2.8.2)\n",
            "Requirement already satisfied: six>=1.5 in /usr/local/lib/python3.7/dist-packages (from python-dateutil>=2.7.3->pandas->text-hammer) (1.15.0)\n",
            "Requirement already satisfied: setuptools in /usr/local/lib/python3.7/dist-packages (from spacy->text-hammer) (57.4.0)\n",
            "Requirement already satisfied: typer<0.5.0,>=0.3.0 in /usr/local/lib/python3.7/dist-packages (from spacy->text-hammer) (0.4.2)\n",
            "Requirement already satisfied: langcodes<4.0.0,>=3.2.0 in /usr/local/lib/python3.7/dist-packages (from spacy->text-hammer) (3.3.0)\n",
            "Requirement already satisfied: pydantic!=1.8,!=1.8.1,<1.11.0,>=1.7.4 in /usr/local/lib/python3.7/dist-packages (from spacy->text-hammer) (1.10.2)\n",
            "Requirement already satisfied: cymem<2.1.0,>=2.0.2 in /usr/local/lib/python3.7/dist-packages (from spacy->text-hammer) (2.0.7)\n",
            "Requirement already satisfied: jinja2 in /usr/local/lib/python3.7/dist-packages (from spacy->text-hammer) (2.11.3)\n",
            "Requirement already satisfied: spacy-legacy<3.1.0,>=3.0.10 in /usr/local/lib/python3.7/dist-packages (from spacy->text-hammer) (3.0.10)\n",
            "Requirement already satisfied: preshed<3.1.0,>=3.0.2 in /usr/local/lib/python3.7/dist-packages (from spacy->text-hammer) (3.0.8)\n",
            "Requirement already satisfied: packaging>=20.0 in /usr/local/lib/python3.7/dist-packages (from spacy->text-hammer) (21.3)\n",
            "Requirement already satisfied: tqdm<5.0.0,>=4.38.0 in /usr/local/lib/python3.7/dist-packages (from spacy->text-hammer) (4.64.1)\n",
            "Requirement already satisfied: srsly<3.0.0,>=2.4.3 in /usr/local/lib/python3.7/dist-packages (from spacy->text-hammer) (2.4.5)\n",
            "Requirement already satisfied: pathy>=0.3.5 in /usr/local/lib/python3.7/dist-packages (from spacy->text-hammer) (0.6.2)\n",
            "Requirement already satisfied: thinc<8.2.0,>=8.1.0 in /usr/local/lib/python3.7/dist-packages (from spacy->text-hammer) (8.1.5)\n",
            "Requirement already satisfied: catalogue<2.1.0,>=2.0.6 in /usr/local/lib/python3.7/dist-packages (from spacy->text-hammer) (2.0.8)\n",
            "Requirement already satisfied: wasabi<1.1.0,>=0.9.1 in /usr/local/lib/python3.7/dist-packages (from spacy->text-hammer) (0.10.1)\n",
            "Requirement already satisfied: spacy-loggers<2.0.0,>=1.0.0 in /usr/local/lib/python3.7/dist-packages (from spacy->text-hammer) (1.0.3)\n",
            "Requirement already satisfied: requests<3.0.0,>=2.13.0 in /usr/local/lib/python3.7/dist-packages (from spacy->text-hammer) (2.23.0)\n",
            "Requirement already satisfied: murmurhash<1.1.0,>=0.28.0 in /usr/local/lib/python3.7/dist-packages (from spacy->text-hammer) (1.0.9)\n",
            "Requirement already satisfied: typing-extensions<4.2.0,>=3.7.4 in /usr/local/lib/python3.7/dist-packages (from spacy->text-hammer) (4.1.1)\n",
            "Requirement already satisfied: zipp>=0.5 in /usr/local/lib/python3.7/dist-packages (from catalogue<2.1.0,>=2.0.6->spacy->text-hammer) (3.10.0)\n",
            "Requirement already satisfied: pyparsing!=3.0.5,>=2.0.2 in /usr/local/lib/python3.7/dist-packages (from packaging>=20.0->spacy->text-hammer) (3.0.9)\n",
            "Requirement already satisfied: smart-open<6.0.0,>=5.2.1 in /usr/local/lib/python3.7/dist-packages (from pathy>=0.3.5->spacy->text-hammer) (5.2.1)\n",
            "Requirement already satisfied: certifi>=2017.4.17 in /usr/local/lib/python3.7/dist-packages (from requests<3.0.0,>=2.13.0->spacy->text-hammer) (2022.9.24)\n",
            "Requirement already satisfied: chardet<4,>=3.0.2 in /usr/local/lib/python3.7/dist-packages (from requests<3.0.0,>=2.13.0->spacy->text-hammer) (3.0.4)\n",
            "Requirement already satisfied: idna<3,>=2.5 in /usr/local/lib/python3.7/dist-packages (from requests<3.0.0,>=2.13.0->spacy->text-hammer) (2.10)\n",
            "Requirement already satisfied: urllib3!=1.25.0,!=1.25.1,<1.26,>=1.21.1 in /usr/local/lib/python3.7/dist-packages (from requests<3.0.0,>=2.13.0->spacy->text-hammer) (1.24.3)\n",
            "Requirement already satisfied: confection<1.0.0,>=0.0.1 in /usr/local/lib/python3.7/dist-packages (from thinc<8.2.0,>=8.1.0->spacy->text-hammer) (0.0.3)\n",
            "Requirement already satisfied: blis<0.8.0,>=0.7.8 in /usr/local/lib/python3.7/dist-packages (from thinc<8.2.0,>=8.1.0->spacy->text-hammer) (0.7.9)\n",
            "Requirement already satisfied: click<9.0.0,>=7.1.1 in /usr/local/lib/python3.7/dist-packages (from typer<0.5.0,>=0.3.0->spacy->text-hammer) (7.1.2)\n",
            "Requirement already satisfied: MarkupSafe>=0.23 in /usr/local/lib/python3.7/dist-packages (from jinja2->spacy->text-hammer) (2.0.1)\n",
            "Requirement already satisfied: nltk>=3.1 in /usr/local/lib/python3.7/dist-packages (from TextBlob->text-hammer) (3.7)\n",
            "Requirement already satisfied: regex>=2021.8.3 in /usr/local/lib/python3.7/dist-packages (from nltk>=3.1->TextBlob->text-hammer) (2022.6.2)\n",
            "Requirement already satisfied: joblib in /usr/local/lib/python3.7/dist-packages (from nltk>=3.1->TextBlob->text-hammer) (1.2.0)\n",
            "Installing collected packages: soupsieve, beautifulsoup4, text-hammer\n",
            "  Attempting uninstall: beautifulsoup4\n",
            "    Found existing installation: beautifulsoup4 4.6.3\n",
            "    Uninstalling beautifulsoup4-4.6.3:\n",
            "      Successfully uninstalled beautifulsoup4-4.6.3\n",
            "Successfully installed beautifulsoup4-4.9.1 soupsieve-2.3.2.post1 text-hammer-0.1.5\n"
          ]
        }
      ]
    },
    {
      "cell_type": "code",
      "execution_count": null,
      "metadata": {
        "id": "vrfpXv3Jw-nd",
        "colab": {
          "base_uri": "https://localhost:8080/"
        },
        "outputId": "8516f890-887e-4ce9-c891-d1b02c3386b8"
      },
      "outputs": [
        {
          "output_type": "stream",
          "name": "stderr",
          "text": [
            "/usr/local/lib/python3.7/dist-packages/spacy/language.py:1899: UserWarning: [W123] Argument disable with value [] is used instead of ['senter'] as specified in the config. Be aware that this might affect other components in your pipeline.\n",
            "  config_value=config[\"nlp\"][key],\n"
          ]
        }
      ],
      "source": [
        "import pandas as pd\n",
        "import text_hammer as th"
      ]
    },
    {
      "cell_type": "code",
      "source": [
        "import re\n",
        "import spacy"
      ],
      "metadata": {
        "id": "s3pfcLPLyMIx"
      },
      "execution_count": null,
      "outputs": []
    },
    {
      "cell_type": "code",
      "source": [
        "from google.colab import drive\n",
        "drive.mount('/content/drive')"
      ],
      "metadata": {
        "colab": {
          "base_uri": "https://localhost:8080/"
        },
        "id": "WJgFaNAWxI_h",
        "outputId": "d7c311b6-9fa0-46b3-964e-207630482f12"
      },
      "execution_count": null,
      "outputs": [
        {
          "output_type": "stream",
          "name": "stdout",
          "text": [
            "Mounted at /content/drive\n"
          ]
        }
      ]
    },
    {
      "cell_type": "code",
      "source": [
        "df = pd.read_csv('/content/drive/MyDrive/dataset/merge-csv.com__6361876ee50a8.csv', encoding = 'unicode_escape')\n",
        "df.head()"
      ],
      "metadata": {
        "colab": {
          "base_uri": "https://localhost:8080/",
          "height": 337
        },
        "id": "5LfWN5znxra3",
        "outputId": "ae80fdf2-2563-456c-d35c-4d789f8d4feb"
      },
      "execution_count": null,
      "outputs": [
        {
          "output_type": "execute_result",
          "data": {
            "text/plain": [
              "                created_at       user_id              name     label  \\\n",
              "0  2022-10-28 23:15:24 UTC  4.386524e+08       AfricanSon®  negative   \n",
              "1  2022-10-28 22:53:28 UTC  1.320000e+18      Bargo YOUSIF  negative   \n",
              "2  2022-10-28 22:21:31 UTC  8.226798e+08  Dr. Aklog Birara  positive   \n",
              "3  2022-10-28 19:46:19 UTC  1.470000e+18              bill  negative   \n",
              "4  2022-10-28 16:40:48 UTC  1.570000e+18          OverMeon   neutral   \n",
              "\n",
              "                                               tweet language  \\\n",
              "0  Ethiopian Airlines (EA) flight ET-3717 was int...       en   \n",
              "1  _ details: It's #Ethiopian_Airlines flight, sm...       en   \n",
              "2  I look forward to seeing integrated infrastruc...       en   \n",
              "3  @jaeyoonieee me getting on ethiopian airlines ...       en   \n",
              "4  #ETH552 ET-AVE A350 941 Ethiopian Airlines ADD...       en   \n",
              "\n",
              "                                                link  Column1  \n",
              "0  https://twitter.com/samsenge/status/1586134568...      NaN  \n",
              "1  https://twitter.com/BargoYousif/status/1586129...      NaN  \n",
              "2  https://twitter.com/DrAklogBirara/status/15861...      NaN  \n",
              "3  https://twitter.com/ysfkd_/status/158608195096...      NaN  \n",
              "4  https://twitter.com/OverMeon/status/1586035262...      NaN  "
            ],
            "text/html": [
              "\n",
              "  <div id=\"df-a9ada72f-0373-4de5-924c-e0cda537d417\">\n",
              "    <div class=\"colab-df-container\">\n",
              "      <div>\n",
              "<style scoped>\n",
              "    .dataframe tbody tr th:only-of-type {\n",
              "        vertical-align: middle;\n",
              "    }\n",
              "\n",
              "    .dataframe tbody tr th {\n",
              "        vertical-align: top;\n",
              "    }\n",
              "\n",
              "    .dataframe thead th {\n",
              "        text-align: right;\n",
              "    }\n",
              "</style>\n",
              "<table border=\"1\" class=\"dataframe\">\n",
              "  <thead>\n",
              "    <tr style=\"text-align: right;\">\n",
              "      <th></th>\n",
              "      <th>created_at</th>\n",
              "      <th>user_id</th>\n",
              "      <th>name</th>\n",
              "      <th>label</th>\n",
              "      <th>tweet</th>\n",
              "      <th>language</th>\n",
              "      <th>link</th>\n",
              "      <th>Column1</th>\n",
              "    </tr>\n",
              "  </thead>\n",
              "  <tbody>\n",
              "    <tr>\n",
              "      <th>0</th>\n",
              "      <td>2022-10-28 23:15:24 UTC</td>\n",
              "      <td>4.386524e+08</td>\n",
              "      <td>AfricanSon®</td>\n",
              "      <td>negative</td>\n",
              "      <td>Ethiopian Airlines (EA) flight ET-3717 was int...</td>\n",
              "      <td>en</td>\n",
              "      <td>https://twitter.com/samsenge/status/1586134568...</td>\n",
              "      <td>NaN</td>\n",
              "    </tr>\n",
              "    <tr>\n",
              "      <th>1</th>\n",
              "      <td>2022-10-28 22:53:28 UTC</td>\n",
              "      <td>1.320000e+18</td>\n",
              "      <td>Bargo YOUSIF</td>\n",
              "      <td>negative</td>\n",
              "      <td>_ details: It's #Ethiopian_Airlines flight, sm...</td>\n",
              "      <td>en</td>\n",
              "      <td>https://twitter.com/BargoYousif/status/1586129...</td>\n",
              "      <td>NaN</td>\n",
              "    </tr>\n",
              "    <tr>\n",
              "      <th>2</th>\n",
              "      <td>2022-10-28 22:21:31 UTC</td>\n",
              "      <td>8.226798e+08</td>\n",
              "      <td>Dr. Aklog Birara</td>\n",
              "      <td>positive</td>\n",
              "      <td>I look forward to seeing integrated infrastruc...</td>\n",
              "      <td>en</td>\n",
              "      <td>https://twitter.com/DrAklogBirara/status/15861...</td>\n",
              "      <td>NaN</td>\n",
              "    </tr>\n",
              "    <tr>\n",
              "      <th>3</th>\n",
              "      <td>2022-10-28 19:46:19 UTC</td>\n",
              "      <td>1.470000e+18</td>\n",
              "      <td>bill</td>\n",
              "      <td>negative</td>\n",
              "      <td>@jaeyoonieee me getting on ethiopian airlines ...</td>\n",
              "      <td>en</td>\n",
              "      <td>https://twitter.com/ysfkd_/status/158608195096...</td>\n",
              "      <td>NaN</td>\n",
              "    </tr>\n",
              "    <tr>\n",
              "      <th>4</th>\n",
              "      <td>2022-10-28 16:40:48 UTC</td>\n",
              "      <td>1.570000e+18</td>\n",
              "      <td>OverMeon</td>\n",
              "      <td>neutral</td>\n",
              "      <td>#ETH552 ET-AVE A350 941 Ethiopian Airlines ADD...</td>\n",
              "      <td>en</td>\n",
              "      <td>https://twitter.com/OverMeon/status/1586035262...</td>\n",
              "      <td>NaN</td>\n",
              "    </tr>\n",
              "  </tbody>\n",
              "</table>\n",
              "</div>\n",
              "      <button class=\"colab-df-convert\" onclick=\"convertToInteractive('df-a9ada72f-0373-4de5-924c-e0cda537d417')\"\n",
              "              title=\"Convert this dataframe to an interactive table.\"\n",
              "              style=\"display:none;\">\n",
              "        \n",
              "  <svg xmlns=\"http://www.w3.org/2000/svg\" height=\"24px\"viewBox=\"0 0 24 24\"\n",
              "       width=\"24px\">\n",
              "    <path d=\"M0 0h24v24H0V0z\" fill=\"none\"/>\n",
              "    <path d=\"M18.56 5.44l.94 2.06.94-2.06 2.06-.94-2.06-.94-.94-2.06-.94 2.06-2.06.94zm-11 1L8.5 8.5l.94-2.06 2.06-.94-2.06-.94L8.5 2.5l-.94 2.06-2.06.94zm10 10l.94 2.06.94-2.06 2.06-.94-2.06-.94-.94-2.06-.94 2.06-2.06.94z\"/><path d=\"M17.41 7.96l-1.37-1.37c-.4-.4-.92-.59-1.43-.59-.52 0-1.04.2-1.43.59L10.3 9.45l-7.72 7.72c-.78.78-.78 2.05 0 2.83L4 21.41c.39.39.9.59 1.41.59.51 0 1.02-.2 1.41-.59l7.78-7.78 2.81-2.81c.8-.78.8-2.07 0-2.86zM5.41 20L4 18.59l7.72-7.72 1.47 1.35L5.41 20z\"/>\n",
              "  </svg>\n",
              "      </button>\n",
              "      \n",
              "  <style>\n",
              "    .colab-df-container {\n",
              "      display:flex;\n",
              "      flex-wrap:wrap;\n",
              "      gap: 12px;\n",
              "    }\n",
              "\n",
              "    .colab-df-convert {\n",
              "      background-color: #E8F0FE;\n",
              "      border: none;\n",
              "      border-radius: 50%;\n",
              "      cursor: pointer;\n",
              "      display: none;\n",
              "      fill: #1967D2;\n",
              "      height: 32px;\n",
              "      padding: 0 0 0 0;\n",
              "      width: 32px;\n",
              "    }\n",
              "\n",
              "    .colab-df-convert:hover {\n",
              "      background-color: #E2EBFA;\n",
              "      box-shadow: 0px 1px 2px rgba(60, 64, 67, 0.3), 0px 1px 3px 1px rgba(60, 64, 67, 0.15);\n",
              "      fill: #174EA6;\n",
              "    }\n",
              "\n",
              "    [theme=dark] .colab-df-convert {\n",
              "      background-color: #3B4455;\n",
              "      fill: #D2E3FC;\n",
              "    }\n",
              "\n",
              "    [theme=dark] .colab-df-convert:hover {\n",
              "      background-color: #434B5C;\n",
              "      box-shadow: 0px 1px 3px 1px rgba(0, 0, 0, 0.15);\n",
              "      filter: drop-shadow(0px 1px 2px rgba(0, 0, 0, 0.3));\n",
              "      fill: #FFFFFF;\n",
              "    }\n",
              "  </style>\n",
              "\n",
              "      <script>\n",
              "        const buttonEl =\n",
              "          document.querySelector('#df-a9ada72f-0373-4de5-924c-e0cda537d417 button.colab-df-convert');\n",
              "        buttonEl.style.display =\n",
              "          google.colab.kernel.accessAllowed ? 'block' : 'none';\n",
              "\n",
              "        async function convertToInteractive(key) {\n",
              "          const element = document.querySelector('#df-a9ada72f-0373-4de5-924c-e0cda537d417');\n",
              "          const dataTable =\n",
              "            await google.colab.kernel.invokeFunction('convertToInteractive',\n",
              "                                                     [key], {});\n",
              "          if (!dataTable) return;\n",
              "\n",
              "          const docLinkHtml = 'Like what you see? Visit the ' +\n",
              "            '<a target=\"_blank\" href=https://colab.research.google.com/notebooks/data_table.ipynb>data table notebook</a>'\n",
              "            + ' to learn more about interactive tables.';\n",
              "          element.innerHTML = '';\n",
              "          dataTable['output_type'] = 'display_data';\n",
              "          await google.colab.output.renderOutput(dataTable, element);\n",
              "          const docLink = document.createElement('div');\n",
              "          docLink.innerHTML = docLinkHtml;\n",
              "          element.appendChild(docLink);\n",
              "        }\n",
              "      </script>\n",
              "    </div>\n",
              "  </div>\n",
              "  "
            ]
          },
          "metadata": {},
          "execution_count": 5
        }
      ]
    },
    {
      "cell_type": "code",
      "source": [
        "nlp = spacy.load(\"en_core_web_sm\")"
      ],
      "metadata": {
        "id": "86D2BcgcQKOm"
      },
      "execution_count": null,
      "outputs": []
    },
    {
      "cell_type": "code",
      "source": [
        "def get_clean(x):\n",
        "    doc = nlp(x)\n",
        "\n",
        "    x = [ word.lemma_.lower().strip() for word in doc ]\n",
        "    x = str(x).lower().replace('\\\\', '').replace('_', ' ')\n",
        "    x = th.cont_exp(x)\n",
        "    x = th.remove_emails(x)\n",
        "    x = th.remove_urls(x)\n",
        "    x = th.remove_html_tags(x)\n",
        "    x = th.remove_rt(x)\n",
        "    x = th.remove_accented_chars(x)\n",
        "    x = th.remove_special_chars(x)\n",
        "    x = re.sub(\"(.)\\\\1{2,}\", \"\\\\1\", x)\n",
        "    \n",
        "    return x"
      ],
      "metadata": {
        "id": "aC6Uv59WyE08"
      },
      "execution_count": null,
      "outputs": []
    },
    {
      "cell_type": "code",
      "source": [
        "df['clean']= df['tweet'].apply(get_clean)\n",
        "df.head()"
      ],
      "metadata": {
        "colab": {
          "base_uri": "https://localhost:8080/",
          "height": 424
        },
        "id": "vh3BvUkO8ud4",
        "outputId": "4094bea7-feb4-45a9-8309-a41c3b3d4bb6"
      },
      "execution_count": null,
      "outputs": [
        {
          "output_type": "execute_result",
          "data": {
            "text/plain": [
              "                created_at       user_id              name     label  \\\n",
              "0  2022-10-28 23:15:24 UTC  4.386524e+08       AfricanSon®  negative   \n",
              "1  2022-10-28 22:53:28 UTC  1.320000e+18      Bargo YOUSIF  negative   \n",
              "2  2022-10-28 22:21:31 UTC  8.226798e+08  Dr. Aklog Birara  positive   \n",
              "3  2022-10-28 19:46:19 UTC  1.470000e+18              bill  negative   \n",
              "4  2022-10-28 16:40:48 UTC  1.570000e+18          OverMeon   neutral   \n",
              "\n",
              "                                               tweet language  \\\n",
              "0  Ethiopian Airlines (EA) flight ET-3717 was int...       en   \n",
              "1  _ details: It's #Ethiopian_Airlines flight, sm...       en   \n",
              "2  I look forward to seeing integrated infrastruc...       en   \n",
              "3  @jaeyoonieee me getting on ethiopian airlines ...       en   \n",
              "4  #ETH552 ET-AVE A350 941 Ethiopian Airlines ADD...       en   \n",
              "\n",
              "                                                link  Column1  \\\n",
              "0  https://twitter.com/samsenge/status/1586134568...      NaN   \n",
              "1  https://twitter.com/BargoYousif/status/1586129...      NaN   \n",
              "2  https://twitter.com/DrAklogBirara/status/15861...      NaN   \n",
              "3  https://twitter.com/ysfkd_/status/158608195096...      NaN   \n",
              "4  https://twitter.com/OverMeon/status/1586035262...      NaN   \n",
              "\n",
              "                                               clean  \n",
              "0  ethiopian airlines ea flight et3717 be interce...  \n",
              "1  detail it be ethiopian airline flight smoke wh...  \n",
              "2  i look forward to see integrate infrastructure...  \n",
              "3  jaeyoonie i get on ethiopian airline and be ov...  \n",
              "4  eth552 et ave a350 941 ethiopian airlines add ...  "
            ],
            "text/html": [
              "\n",
              "  <div id=\"df-5ee29c3c-0912-49ee-8b09-f40b6bb82ae0\">\n",
              "    <div class=\"colab-df-container\">\n",
              "      <div>\n",
              "<style scoped>\n",
              "    .dataframe tbody tr th:only-of-type {\n",
              "        vertical-align: middle;\n",
              "    }\n",
              "\n",
              "    .dataframe tbody tr th {\n",
              "        vertical-align: top;\n",
              "    }\n",
              "\n",
              "    .dataframe thead th {\n",
              "        text-align: right;\n",
              "    }\n",
              "</style>\n",
              "<table border=\"1\" class=\"dataframe\">\n",
              "  <thead>\n",
              "    <tr style=\"text-align: right;\">\n",
              "      <th></th>\n",
              "      <th>created_at</th>\n",
              "      <th>user_id</th>\n",
              "      <th>name</th>\n",
              "      <th>label</th>\n",
              "      <th>tweet</th>\n",
              "      <th>language</th>\n",
              "      <th>link</th>\n",
              "      <th>Column1</th>\n",
              "      <th>clean</th>\n",
              "    </tr>\n",
              "  </thead>\n",
              "  <tbody>\n",
              "    <tr>\n",
              "      <th>0</th>\n",
              "      <td>2022-10-28 23:15:24 UTC</td>\n",
              "      <td>4.386524e+08</td>\n",
              "      <td>AfricanSon®</td>\n",
              "      <td>negative</td>\n",
              "      <td>Ethiopian Airlines (EA) flight ET-3717 was int...</td>\n",
              "      <td>en</td>\n",
              "      <td>https://twitter.com/samsenge/status/1586134568...</td>\n",
              "      <td>NaN</td>\n",
              "      <td>ethiopian airlines ea flight et3717 be interce...</td>\n",
              "    </tr>\n",
              "    <tr>\n",
              "      <th>1</th>\n",
              "      <td>2022-10-28 22:53:28 UTC</td>\n",
              "      <td>1.320000e+18</td>\n",
              "      <td>Bargo YOUSIF</td>\n",
              "      <td>negative</td>\n",
              "      <td>_ details: It's #Ethiopian_Airlines flight, sm...</td>\n",
              "      <td>en</td>\n",
              "      <td>https://twitter.com/BargoYousif/status/1586129...</td>\n",
              "      <td>NaN</td>\n",
              "      <td>detail it be ethiopian airline flight smoke wh...</td>\n",
              "    </tr>\n",
              "    <tr>\n",
              "      <th>2</th>\n",
              "      <td>2022-10-28 22:21:31 UTC</td>\n",
              "      <td>8.226798e+08</td>\n",
              "      <td>Dr. Aklog Birara</td>\n",
              "      <td>positive</td>\n",
              "      <td>I look forward to seeing integrated infrastruc...</td>\n",
              "      <td>en</td>\n",
              "      <td>https://twitter.com/DrAklogBirara/status/15861...</td>\n",
              "      <td>NaN</td>\n",
              "      <td>i look forward to see integrate infrastructure...</td>\n",
              "    </tr>\n",
              "    <tr>\n",
              "      <th>3</th>\n",
              "      <td>2022-10-28 19:46:19 UTC</td>\n",
              "      <td>1.470000e+18</td>\n",
              "      <td>bill</td>\n",
              "      <td>negative</td>\n",
              "      <td>@jaeyoonieee me getting on ethiopian airlines ...</td>\n",
              "      <td>en</td>\n",
              "      <td>https://twitter.com/ysfkd_/status/158608195096...</td>\n",
              "      <td>NaN</td>\n",
              "      <td>jaeyoonie i get on ethiopian airline and be ov...</td>\n",
              "    </tr>\n",
              "    <tr>\n",
              "      <th>4</th>\n",
              "      <td>2022-10-28 16:40:48 UTC</td>\n",
              "      <td>1.570000e+18</td>\n",
              "      <td>OverMeon</td>\n",
              "      <td>neutral</td>\n",
              "      <td>#ETH552 ET-AVE A350 941 Ethiopian Airlines ADD...</td>\n",
              "      <td>en</td>\n",
              "      <td>https://twitter.com/OverMeon/status/1586035262...</td>\n",
              "      <td>NaN</td>\n",
              "      <td>eth552 et ave a350 941 ethiopian airlines add ...</td>\n",
              "    </tr>\n",
              "  </tbody>\n",
              "</table>\n",
              "</div>\n",
              "      <button class=\"colab-df-convert\" onclick=\"convertToInteractive('df-5ee29c3c-0912-49ee-8b09-f40b6bb82ae0')\"\n",
              "              title=\"Convert this dataframe to an interactive table.\"\n",
              "              style=\"display:none;\">\n",
              "        \n",
              "  <svg xmlns=\"http://www.w3.org/2000/svg\" height=\"24px\"viewBox=\"0 0 24 24\"\n",
              "       width=\"24px\">\n",
              "    <path d=\"M0 0h24v24H0V0z\" fill=\"none\"/>\n",
              "    <path d=\"M18.56 5.44l.94 2.06.94-2.06 2.06-.94-2.06-.94-.94-2.06-.94 2.06-2.06.94zm-11 1L8.5 8.5l.94-2.06 2.06-.94-2.06-.94L8.5 2.5l-.94 2.06-2.06.94zm10 10l.94 2.06.94-2.06 2.06-.94-2.06-.94-.94-2.06-.94 2.06-2.06.94z\"/><path d=\"M17.41 7.96l-1.37-1.37c-.4-.4-.92-.59-1.43-.59-.52 0-1.04.2-1.43.59L10.3 9.45l-7.72 7.72c-.78.78-.78 2.05 0 2.83L4 21.41c.39.39.9.59 1.41.59.51 0 1.02-.2 1.41-.59l7.78-7.78 2.81-2.81c.8-.78.8-2.07 0-2.86zM5.41 20L4 18.59l7.72-7.72 1.47 1.35L5.41 20z\"/>\n",
              "  </svg>\n",
              "      </button>\n",
              "      \n",
              "  <style>\n",
              "    .colab-df-container {\n",
              "      display:flex;\n",
              "      flex-wrap:wrap;\n",
              "      gap: 12px;\n",
              "    }\n",
              "\n",
              "    .colab-df-convert {\n",
              "      background-color: #E8F0FE;\n",
              "      border: none;\n",
              "      border-radius: 50%;\n",
              "      cursor: pointer;\n",
              "      display: none;\n",
              "      fill: #1967D2;\n",
              "      height: 32px;\n",
              "      padding: 0 0 0 0;\n",
              "      width: 32px;\n",
              "    }\n",
              "\n",
              "    .colab-df-convert:hover {\n",
              "      background-color: #E2EBFA;\n",
              "      box-shadow: 0px 1px 2px rgba(60, 64, 67, 0.3), 0px 1px 3px 1px rgba(60, 64, 67, 0.15);\n",
              "      fill: #174EA6;\n",
              "    }\n",
              "\n",
              "    [theme=dark] .colab-df-convert {\n",
              "      background-color: #3B4455;\n",
              "      fill: #D2E3FC;\n",
              "    }\n",
              "\n",
              "    [theme=dark] .colab-df-convert:hover {\n",
              "      background-color: #434B5C;\n",
              "      box-shadow: 0px 1px 3px 1px rgba(0, 0, 0, 0.15);\n",
              "      filter: drop-shadow(0px 1px 2px rgba(0, 0, 0, 0.3));\n",
              "      fill: #FFFFFF;\n",
              "    }\n",
              "  </style>\n",
              "\n",
              "      <script>\n",
              "        const buttonEl =\n",
              "          document.querySelector('#df-5ee29c3c-0912-49ee-8b09-f40b6bb82ae0 button.colab-df-convert');\n",
              "        buttonEl.style.display =\n",
              "          google.colab.kernel.accessAllowed ? 'block' : 'none';\n",
              "\n",
              "        async function convertToInteractive(key) {\n",
              "          const element = document.querySelector('#df-5ee29c3c-0912-49ee-8b09-f40b6bb82ae0');\n",
              "          const dataTable =\n",
              "            await google.colab.kernel.invokeFunction('convertToInteractive',\n",
              "                                                     [key], {});\n",
              "          if (!dataTable) return;\n",
              "\n",
              "          const docLinkHtml = 'Like what you see? Visit the ' +\n",
              "            '<a target=\"_blank\" href=https://colab.research.google.com/notebooks/data_table.ipynb>data table notebook</a>'\n",
              "            + ' to learn more about interactive tables.';\n",
              "          element.innerHTML = '';\n",
              "          dataTable['output_type'] = 'display_data';\n",
              "          await google.colab.output.renderOutput(dataTable, element);\n",
              "          const docLink = document.createElement('div');\n",
              "          docLink.innerHTML = docLinkHtml;\n",
              "          element.appendChild(docLink);\n",
              "        }\n",
              "      </script>\n",
              "    </div>\n",
              "  </div>\n",
              "  "
            ]
          },
          "metadata": {},
          "execution_count": 9
        }
      ]
    },
    {
      "cell_type": "code",
      "source": [
        "X= df['clean']\n",
        "df['label']= df['label'].astype('category').cat.codes\n",
        "y= df['label']"
      ],
      "metadata": {
        "id": "aqV0-cZQ7DJc"
      },
      "execution_count": null,
      "outputs": []
    },
    {
      "cell_type": "code",
      "source": [
        "y.shape"
      ],
      "metadata": {
        "colab": {
          "base_uri": "https://localhost:8080/"
        },
        "id": "f3s5Rl_S7ZNe",
        "outputId": "575d57d3-8185-4115-97a4-6fc4da1930a9"
      },
      "execution_count": null,
      "outputs": [
        {
          "output_type": "execute_result",
          "data": {
            "text/plain": [
              "(4429,)"
            ]
          },
          "metadata": {},
          "execution_count": 11
        }
      ]
    },
    {
      "cell_type": "code",
      "source": [
        "import tensorflow as tf"
      ],
      "metadata": {
        "id": "augiiFHv7a_G"
      },
      "execution_count": null,
      "outputs": []
    },
    {
      "cell_type": "code",
      "source": [
        "from tensorflow.keras.layers import Embedding\n",
        "from tensorflow.keras.preprocessing.sequence import pad_sequences\n",
        "from tensorflow.keras.models import Sequential\n",
        "from tensorflow.keras.preprocessing.text import one_hot\n",
        "from tensorflow.keras.layers import LSTM\n",
        "from tensorflow.keras.layers import Dense"
      ],
      "metadata": {
        "id": "MVsvfsBL7iyA"
      },
      "execution_count": null,
      "outputs": []
    },
    {
      "cell_type": "code",
      "source": [
        "### Vocabulary size\n",
        "voc_size=10000"
      ],
      "metadata": {
        "id": "tz_D75fN7mbX"
      },
      "execution_count": null,
      "outputs": []
    },
    {
      "cell_type": "markdown",
      "source": [
        "One hot representation"
      ],
      "metadata": {
        "id": "CGnNoV_i7soM"
      }
    },
    {
      "cell_type": "code",
      "source": [
        "mes= X.copy()"
      ],
      "metadata": {
        "id": "m5iqCd-c7qw1"
      },
      "execution_count": null,
      "outputs": []
    },
    {
      "cell_type": "code",
      "source": [
        "mes.head()"
      ],
      "metadata": {
        "colab": {
          "base_uri": "https://localhost:8080/"
        },
        "id": "mubCearM7zLn",
        "outputId": "a3f0c892-1216-4df2-e6f4-bbfd08359dd1"
      },
      "execution_count": null,
      "outputs": [
        {
          "output_type": "execute_result",
          "data": {
            "text/plain": [
              "0    ethiopian airlines ea flight et3717 be interce...\n",
              "1    detail it be ethiopian airline flight smoke wh...\n",
              "2    i look forward to see integrate infrastructure...\n",
              "3    jaeyoonie i get on ethiopian airline and be ov...\n",
              "4    eth552 et ave a350 941 ethiopian airlines add ...\n",
              "Name: clean, dtype: object"
            ]
          },
          "metadata": {},
          "execution_count": 17
        }
      ]
    },
    {
      "cell_type": "code",
      "source": [
        "onehot_repr=[one_hot(words,voc_size)for words in mes] \n",
        "onehot_repr[0]"
      ],
      "metadata": {
        "colab": {
          "base_uri": "https://localhost:8080/"
        },
        "id": "Dg_LfZeZ8EVk",
        "outputId": "5d23f190-142b-48d0-d3f1-2f17afb96828"
      },
      "execution_count": null,
      "outputs": [
        {
          "output_type": "execute_result",
          "data": {
            "text/plain": [
              "[680,\n",
              " 1170,\n",
              " 1582,\n",
              " 3439,\n",
              " 1117,\n",
              " 9378,\n",
              " 215,\n",
              " 7157,\n",
              " 1820,\n",
              " 5700,\n",
              " 9478,\n",
              " 1519,\n",
              " 4838,\n",
              " 847,\n",
              " 4025,\n",
              " 1528,\n",
              " 9584,\n",
              " 8602,\n",
              " 693,\n",
              " 8899,\n",
              " 6216,\n",
              " 28,\n",
              " 8900,\n",
              " 7090,\n",
              " 4915,\n",
              " 698,\n",
              " 4528,\n",
              " 6908,\n",
              " 3942,\n",
              " 2484]"
            ]
          },
          "metadata": {},
          "execution_count": 18
        }
      ]
    },
    {
      "cell_type": "code",
      "source": [
        "df['length']= df['clean'].apply(lambda x: len(x.split()))\n",
        "\n",
        "df['length'].max(), df['length'].mean()"
      ],
      "metadata": {
        "colab": {
          "base_uri": "https://localhost:8080/"
        },
        "id": "TjuNMHofxs49",
        "outputId": "c63655b9-8539-4f99-ff42-0b9082dae9b3"
      },
      "execution_count": null,
      "outputs": [
        {
          "output_type": "execute_result",
          "data": {
            "text/plain": [
              "(68, 20.237525400767666)"
            ]
          },
          "metadata": {},
          "execution_count": 23
        }
      ]
    },
    {
      "cell_type": "code",
      "source": [
        "sent_length=80\n",
        "embedded_docs=pad_sequences(onehot_repr,padding='post',maxlen=sent_length)\n",
        "print(embedded_docs)"
      ],
      "metadata": {
        "colab": {
          "base_uri": "https://localhost:8080/"
        },
        "id": "SCMmVTVW-h8h",
        "outputId": "085a6e8e-eb1b-43cd-8715-b940d486a9d4"
      },
      "execution_count": null,
      "outputs": [
        {
          "output_type": "stream",
          "name": "stdout",
          "text": [
            "[[ 680 1170 1582 ...    0    0    0]\n",
            " [2366 9275 9378 ...    0    0    0]\n",
            " [5365 9116 1662 ...    0    0    0]\n",
            " ...\n",
            " [1535  680 5820 ...    0    0    0]\n",
            " [ 680 1170 9378 ...    0    0    0]\n",
            " [1535  680 5942 ...    0    0    0]]\n"
          ]
        }
      ]
    },
    {
      "cell_type": "code",
      "source": [
        "embedded_docs[0]"
      ],
      "metadata": {
        "colab": {
          "base_uri": "https://localhost:8080/"
        },
        "id": "wHO4Mo8j-j_m",
        "outputId": "dc26d6c7-10bb-4c53-a712-dd4167d35a16"
      },
      "execution_count": null,
      "outputs": [
        {
          "output_type": "execute_result",
          "data": {
            "text/plain": [
              "array([ 680, 1170, 1582, 3439, 1117, 9378,  215, 7157, 1820, 5700, 9478,\n",
              "       1519, 4838,  847, 4025, 1528, 9584, 8602,  693, 8899, 6216,   28,\n",
              "       8900, 7090, 4915,  698, 4528, 6908, 3942, 2484,    0,    0,    0,\n",
              "          0,    0,    0,    0,    0,    0,    0,    0,    0,    0,    0,\n",
              "          0,    0,    0,    0,    0,    0,    0,    0,    0,    0,    0,\n",
              "          0,    0,    0,    0,    0,    0,    0,    0,    0,    0,    0,\n",
              "          0,    0,    0,    0,    0,    0,    0,    0,    0,    0,    0,\n",
              "          0,    0,    0], dtype=int32)"
            ]
          },
          "metadata": {},
          "execution_count": 39
        }
      ]
    },
    {
      "cell_type": "code",
      "source": [
        "import numpy as np\n",
        "X_final=np.array(embedded_docs)\n",
        "y_final=np.array(y)"
      ],
      "metadata": {
        "id": "p2HcYfZx-w_6"
      },
      "execution_count": null,
      "outputs": []
    },
    {
      "cell_type": "code",
      "source": [
        "X_final.shape,y_final.shape"
      ],
      "metadata": {
        "colab": {
          "base_uri": "https://localhost:8080/"
        },
        "id": "ZDyXnUsj-18_",
        "outputId": "c65aa910-bcf4-49b9-a0b0-47b524715483"
      },
      "execution_count": null,
      "outputs": [
        {
          "output_type": "execute_result",
          "data": {
            "text/plain": [
              "((4429, 80), (4429,))"
            ]
          },
          "metadata": {},
          "execution_count": 42
        }
      ]
    },
    {
      "cell_type": "code",
      "source": [
        "y_final"
      ],
      "metadata": {
        "colab": {
          "base_uri": "https://localhost:8080/"
        },
        "id": "_kF-9Lnn13hV",
        "outputId": "2dd26c31-c49f-48ca-8abd-44251552646a"
      },
      "execution_count": null,
      "outputs": [
        {
          "output_type": "execute_result",
          "data": {
            "text/plain": [
              "array([0, 0, 2, ..., 2, 2, 2], dtype=int8)"
            ]
          },
          "metadata": {},
          "execution_count": 48
        }
      ]
    },
    {
      "cell_type": "code",
      "source": [
        "df['label']"
      ],
      "metadata": {
        "colab": {
          "base_uri": "https://localhost:8080/"
        },
        "id": "HvgVnKf319Eo",
        "outputId": "d3887e0a-6648-435c-8099-a6e38cb075ab"
      },
      "execution_count": null,
      "outputs": [
        {
          "output_type": "execute_result",
          "data": {
            "text/plain": [
              "0       0\n",
              "1       0\n",
              "2       2\n",
              "3       0\n",
              "4       1\n",
              "       ..\n",
              "4424    1\n",
              "4425    1\n",
              "4426    1\n",
              "4427    1\n",
              "4428    1\n",
              "Name: label, Length: 4429, dtype: int8"
            ]
          },
          "metadata": {},
          "execution_count": 49
        }
      ]
    },
    {
      "cell_type": "code",
      "source": [
        "from imblearn.over_sampling import SMOTE\n",
        "\n",
        "over= SMOTE()\n",
        "\n",
        "X_final, y_final= over.fit_resample(X_final, y_final)"
      ],
      "metadata": {
        "id": "Ck57B5EAyvjN"
      },
      "execution_count": null,
      "outputs": []
    },
    {
      "cell_type": "code",
      "source": [
        "X_final.shape,y_final.shape"
      ],
      "metadata": {
        "colab": {
          "base_uri": "https://localhost:8080/"
        },
        "id": "oO_iwUVlzGDl",
        "outputId": "d1054395-19d6-415b-fc39-220c19f31fa8"
      },
      "execution_count": null,
      "outputs": [
        {
          "output_type": "execute_result",
          "data": {
            "text/plain": [
              "((6822, 80), (6822,))"
            ]
          },
          "metadata": {},
          "execution_count": 81
        }
      ]
    },
    {
      "cell_type": "code",
      "source": [
        "from sklearn.model_selection import train_test_split\n",
        "X_train, X_test, y_train, y_test = train_test_split(X_final, y_final, test_size=0.2, random_state=42, stratify= y_final)"
      ],
      "metadata": {
        "id": "q6Rbl0vt-4Qu"
      },
      "execution_count": null,
      "outputs": []
    },
    {
      "cell_type": "code",
      "source": [
        "## Creating model\n",
        "embedding_vector_features=70\n",
        "model=Sequential()\n",
        "model.add(Embedding(voc_size,embedding_vector_features,input_length=sent_length))\n",
        "model.add(LSTM(100)),\n",
        "tf.keras.layers.Dense(embedding_vector_features, activation='relu'),\n",
        "model.add(Dense(1,activation='softmax'))\n",
        "model.compile(loss='categorical_crossentropy',optimizer='adam',metrics=['accuracy'])\n",
        "print(model.summary())"
      ],
      "metadata": {
        "colab": {
          "base_uri": "https://localhost:8080/"
        },
        "id": "bVAyQTWd-o-l",
        "outputId": "b9256b4c-f71c-4e36-a602-bce603301d6e"
      },
      "execution_count": null,
      "outputs": [
        {
          "output_type": "stream",
          "name": "stdout",
          "text": [
            "Model: \"sequential_14\"\n",
            "_________________________________________________________________\n",
            " Layer (type)                Output Shape              Param #   \n",
            "=================================================================\n",
            " embedding_14 (Embedding)    (None, 80, 70)            700000    \n",
            "                                                                 \n",
            " lstm_15 (LSTM)              (None, 100)               68400     \n",
            "                                                                 \n",
            " dense_27 (Dense)            (None, 1)                 101       \n",
            "                                                                 \n",
            "=================================================================\n",
            "Total params: 768,501\n",
            "Trainable params: 768,501\n",
            "Non-trainable params: 0\n",
            "_________________________________________________________________\n",
            "None\n"
          ]
        }
      ]
    },
    {
      "cell_type": "code",
      "source": [
        "### Finally Training\n",
        "model.fit(X_train,y_train,validation_data=(X_test,y_test),epochs=5,batch_size=100)"
      ],
      "metadata": {
        "colab": {
          "base_uri": "https://localhost:8080/"
        },
        "id": "dMwsI7sh-64m",
        "outputId": "fda75c72-84d7-49df-b14d-b57c61c120e1"
      },
      "execution_count": null,
      "outputs": [
        {
          "output_type": "stream",
          "name": "stdout",
          "text": [
            "Epoch 1/5\n",
            "55/55 [==============================] - 14s 213ms/step - loss: 0.0000e+00 - accuracy: 0.3333 - val_loss: 0.0000e+00 - val_accuracy: 0.3333\n",
            "Epoch 2/5\n",
            "55/55 [==============================] - 11s 205ms/step - loss: 0.0000e+00 - accuracy: 0.3333 - val_loss: 0.0000e+00 - val_accuracy: 0.3333\n",
            "Epoch 3/5\n",
            "55/55 [==============================] - 11s 205ms/step - loss: 0.0000e+00 - accuracy: 0.3333 - val_loss: 0.0000e+00 - val_accuracy: 0.3333\n",
            "Epoch 4/5\n",
            "55/55 [==============================] - 11s 206ms/step - loss: 0.0000e+00 - accuracy: 0.3333 - val_loss: 0.0000e+00 - val_accuracy: 0.3333\n",
            "Epoch 5/5\n",
            "55/55 [==============================] - 11s 205ms/step - loss: 0.0000e+00 - accuracy: 0.3333 - val_loss: 0.0000e+00 - val_accuracy: 0.3333\n"
          ]
        },
        {
          "output_type": "execute_result",
          "data": {
            "text/plain": [
              "<keras.callbacks.History at 0x7f2598e8ad90>"
            ]
          },
          "metadata": {},
          "execution_count": 84
        }
      ]
    },
    {
      "cell_type": "markdown",
      "source": [
        "adding droupout"
      ],
      "metadata": {
        "id": "MrMBB9vP_Bks"
      }
    },
    {
      "cell_type": "code",
      "source": [
        "from tensorflow.keras.layers import Dropout\n",
        "## Creating model\n",
        "embedding_vector_features=80\n",
        "model=Sequential()\n",
        "model.add(Embedding(voc_size,embedding_vector_features,input_length=sent_length))\n",
        "model.add(Dropout(0.3))\n",
        "model.add(LSTM(100))\n",
        "model.add(Dropout(0.3))\n",
        "model.add(Dense(1,activation='sigmoid'))\n",
        "model.compile(loss='binary_crossentropy',optimizer='adam',metrics=['accuracy'])"
      ],
      "metadata": {
        "id": "qc9xrFAJ-9aU"
      },
      "execution_count": null,
      "outputs": []
    },
    {
      "cell_type": "code",
      "source": [
        "y_pred= model.predict(X_test)"
      ],
      "metadata": {
        "colab": {
          "base_uri": "https://localhost:8080/"
        },
        "id": "ohZV6W3z0F7N",
        "outputId": "c2967978-3670-47ae-c2b3-e131b4d01fbf"
      },
      "execution_count": null,
      "outputs": [
        {
          "output_type": "stream",
          "name": "stdout",
          "text": [
            "43/43 [==============================] - 1s 20ms/step\n"
          ]
        }
      ]
    },
    {
      "cell_type": "code",
      "source": [
        "model1 = tf.keras.Sequential([\n",
        "    # Add an Embedding layer expecting input vocab of size 5000, and output embedding dimension of size 64 we set at the top\n",
        "    tf.keras.layers.Embedding(voc_size, embedding_vector_features),\n",
        "    tf.keras.layers.Bidirectional(tf.keras.layers.LSTM(embedding_vector_features)),\n",
        "#    tf.keras.layers.Bidirectional(tf.keras.layers.LSTM(32)),\n",
        "    # use ReLU in place of tanh function since they are very good alternatives of each other.\n",
        "    tf.keras.layers.Dense(embedding_vector_features, activation='relu'),\n",
        "    # Add a Dense layer with 6 units and softmax activation.\n",
        "    \n",
        "    # When we have multiple outputs, softmax convert outputs layers into a probability distribution.\n",
        "    tf.keras.layers.Dense(3, activation='softmax')\n",
        "])\n",
        "model1.summary()"
      ],
      "metadata": {
        "colab": {
          "base_uri": "https://localhost:8080/"
        },
        "id": "GvZFsCaI4dJa",
        "outputId": "04bf7019-b73b-410d-ec4a-4cfa97588b89"
      },
      "execution_count": null,
      "outputs": [
        {
          "output_type": "stream",
          "name": "stdout",
          "text": [
            "Model: \"sequential_13\"\n",
            "_________________________________________________________________\n",
            " Layer (type)                Output Shape              Param #   \n",
            "=================================================================\n",
            " embedding_13 (Embedding)    (None, None, 70)          700000    \n",
            "                                                                 \n",
            " bidirectional_7 (Bidirectio  (None, 140)              78960     \n",
            " nal)                                                            \n",
            "                                                                 \n",
            " dense_24 (Dense)            (None, 70)                9870      \n",
            "                                                                 \n",
            " dense_25 (Dense)            (None, 3)                 213       \n",
            "                                                                 \n",
            "=================================================================\n",
            "Total params: 789,043\n",
            "Trainable params: 789,043\n",
            "Non-trainable params: 0\n",
            "_________________________________________________________________\n"
          ]
        }
      ]
    },
    {
      "cell_type": "code",
      "source": [
        "model1.compile(loss='sparse_categorical_crossentropy', optimizer='adam', metrics=['accuracy'])\n",
        "num_epochs = 20\n",
        "batch=50\n",
        "history = model1.fit(X_train, y_train, epochs=num_epochs, validation_data=(X_test, y_test), verbose=2, batch_size=batch)"
      ],
      "metadata": {
        "colab": {
          "base_uri": "https://localhost:8080/"
        },
        "id": "bZca5GHK3lH4",
        "outputId": "c3023eb9-17c6-42d0-d273-d6493b8c2ecf"
      },
      "execution_count": null,
      "outputs": [
        {
          "output_type": "stream",
          "name": "stdout",
          "text": [
            "Epoch 1/20\n",
            "110/110 - 55s - loss: 0.8511 - accuracy: 0.5881 - val_loss: 0.7288 - val_accuracy: 0.6645 - 55s/epoch - 498ms/step\n",
            "Epoch 2/20\n",
            "110/110 - 13s - loss: 0.5214 - accuracy: 0.7955 - val_loss: 0.7380 - val_accuracy: 0.6894 - 13s/epoch - 119ms/step\n",
            "Epoch 3/20\n",
            "110/110 - 13s - loss: 0.2673 - accuracy: 0.9100 - val_loss: 0.8841 - val_accuracy: 0.6996 - 13s/epoch - 120ms/step\n",
            "Epoch 4/20\n",
            "110/110 - 13s - loss: 0.1352 - accuracy: 0.9560 - val_loss: 1.1246 - val_accuracy: 0.7055 - 13s/epoch - 120ms/step\n",
            "Epoch 5/20\n",
            "110/110 - 13s - loss: 0.0892 - accuracy: 0.9738 - val_loss: 1.2968 - val_accuracy: 0.6974 - 13s/epoch - 119ms/step\n",
            "Epoch 6/20\n",
            "110/110 - 13s - loss: 0.0563 - accuracy: 0.9848 - val_loss: 1.5169 - val_accuracy: 0.6989 - 13s/epoch - 119ms/step\n",
            "Epoch 7/20\n",
            "110/110 - 13s - loss: 0.0427 - accuracy: 0.9886 - val_loss: 1.7630 - val_accuracy: 0.7040 - 13s/epoch - 118ms/step\n",
            "Epoch 8/20\n",
            "110/110 - 13s - loss: 0.0412 - accuracy: 0.9888 - val_loss: 1.5529 - val_accuracy: 0.6996 - 13s/epoch - 119ms/step\n",
            "Epoch 9/20\n",
            "110/110 - 13s - loss: 0.0332 - accuracy: 0.9910 - val_loss: 1.7118 - val_accuracy: 0.6886 - 13s/epoch - 119ms/step\n",
            "Epoch 10/20\n",
            "110/110 - 13s - loss: 0.0300 - accuracy: 0.9921 - val_loss: 1.7290 - val_accuracy: 0.7011 - 13s/epoch - 119ms/step\n",
            "Epoch 11/20\n",
            "110/110 - 13s - loss: 0.0292 - accuracy: 0.9908 - val_loss: 1.6968 - val_accuracy: 0.6916 - 13s/epoch - 119ms/step\n",
            "Epoch 12/20\n",
            "110/110 - 13s - loss: 0.0311 - accuracy: 0.9925 - val_loss: 1.6624 - val_accuracy: 0.6960 - 13s/epoch - 119ms/step\n",
            "Epoch 13/20\n",
            "110/110 - 13s - loss: 0.0284 - accuracy: 0.9916 - val_loss: 1.7598 - val_accuracy: 0.6850 - 13s/epoch - 118ms/step\n",
            "Epoch 14/20\n",
            "110/110 - 13s - loss: 0.0308 - accuracy: 0.9916 - val_loss: 1.6693 - val_accuracy: 0.6908 - 13s/epoch - 119ms/step\n",
            "Epoch 15/20\n",
            "110/110 - 13s - loss: 0.0243 - accuracy: 0.9923 - val_loss: 1.7379 - val_accuracy: 0.6864 - 13s/epoch - 119ms/step\n",
            "Epoch 16/20\n",
            "110/110 - 17s - loss: 0.0224 - accuracy: 0.9927 - val_loss: 1.8055 - val_accuracy: 0.6835 - 17s/epoch - 157ms/step\n",
            "Epoch 17/20\n",
            "110/110 - 13s - loss: 0.0252 - accuracy: 0.9925 - val_loss: 1.9252 - val_accuracy: 0.6901 - 13s/epoch - 119ms/step\n",
            "Epoch 18/20\n",
            "110/110 - 13s - loss: 0.0211 - accuracy: 0.9927 - val_loss: 2.0877 - val_accuracy: 0.6996 - 13s/epoch - 118ms/step\n",
            "Epoch 19/20\n",
            "110/110 - 13s - loss: 0.0225 - accuracy: 0.9927 - val_loss: 1.8892 - val_accuracy: 0.6930 - 13s/epoch - 119ms/step\n",
            "Epoch 20/20\n",
            "110/110 - 13s - loss: 0.0301 - accuracy: 0.9907 - val_loss: 1.8198 - val_accuracy: 0.6916 - 13s/epoch - 120ms/step\n"
          ]
        }
      ]
    }
  ]
}